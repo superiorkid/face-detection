{
 "cells": [
  {
   "cell_type": "markdown",
   "id": "b690f59f",
   "metadata": {},
   "source": [
    "## import module\n",
    "\n",
    "import module opencv untuk python"
   ]
  },
  {
   "cell_type": "code",
   "execution_count": 2,
   "id": "4c5aea10",
   "metadata": {},
   "outputs": [],
   "source": [
    "import cv2"
   ]
  },
  {
   "cell_type": "markdown",
   "id": "a89b34ae",
   "metadata": {},
   "source": [
    "## membaca haarcascade file"
   ]
  },
  {
   "cell_type": "code",
   "execution_count": 3,
   "id": "0e35fb3f",
   "metadata": {},
   "outputs": [
    {
     "data": {
      "text/plain": [
       "< cv2.CascadeClassifier 0x7f07aeab7bb0>"
      ]
     },
     "execution_count": 3,
     "metadata": {},
     "output_type": "execute_result"
    }
   ],
   "source": [
    "face_cascades  = cv2.CascadeClassifier('haarcascade/haarcascade_frontalface_default.xml')\n",
    "face_cascades"
   ]
  },
  {
   "cell_type": "markdown",
   "id": "bcf4b2be",
   "metadata": {},
   "source": [
    "## membaca inputan image"
   ]
  },
  {
   "cell_type": "code",
   "execution_count": 4,
   "id": "a0d1ec87",
   "metadata": {},
   "outputs": [
    {
     "data": {
      "text/plain": [
       "array([[[154, 173, 164],\n",
       "        [155, 174, 165],\n",
       "        [157, 175, 168],\n",
       "        ...,\n",
       "        [140, 158, 159],\n",
       "        [139, 154, 156],\n",
       "        [136, 151, 153]],\n",
       "\n",
       "       [[152, 171, 162],\n",
       "        [153, 172, 163],\n",
       "        [155, 173, 166],\n",
       "        ...,\n",
       "        [127, 145, 144],\n",
       "        [126, 141, 143],\n",
       "        [124, 140, 139]],\n",
       "\n",
       "       [[151, 170, 161],\n",
       "        [152, 171, 162],\n",
       "        [154, 172, 165],\n",
       "        ...,\n",
       "        [118, 135, 132],\n",
       "        [117, 131, 130],\n",
       "        [114, 128, 126]],\n",
       "\n",
       "       ...,\n",
       "\n",
       "       [[112, 135,  80],\n",
       "        [112, 135,  80],\n",
       "        [112, 135,  81],\n",
       "        ...,\n",
       "        [ 26,  20,  97],\n",
       "        [ 27,  21,  98],\n",
       "        [ 27,  21,  98]],\n",
       "\n",
       "       [[114, 136,  78],\n",
       "        [114, 136,  78],\n",
       "        [114, 135,  80],\n",
       "        ...,\n",
       "        [ 26,  20,  97],\n",
       "        [ 27,  21,  98],\n",
       "        [ 27,  21,  98]],\n",
       "\n",
       "       [[113, 135,  77],\n",
       "        [113, 135,  77],\n",
       "        [114, 135,  80],\n",
       "        ...,\n",
       "        [ 26,  20,  97],\n",
       "        [ 27,  21,  98],\n",
       "        [ 27,  21,  98]]], dtype=uint8)"
      ]
     },
     "execution_count": 4,
     "metadata": {},
     "output_type": "execute_result"
    }
   ],
   "source": [
    "img = cv2.imread('img-example/example1.jpg')\n",
    "img"
   ]
  },
  {
   "cell_type": "markdown",
   "id": "6e8ae1b0",
   "metadata": {},
   "source": [
    "## convert image ke grayscale"
   ]
  },
  {
   "cell_type": "code",
   "execution_count": 5,
   "id": "3c094fd4",
   "metadata": {},
   "outputs": [
    {
     "data": {
      "text/plain": [
       "array([[168, 169, 171, ..., 156, 153, 150],\n",
       "       [166, 167, 169, ..., 143, 140, 138],\n",
       "       [165, 166, 168, ..., 132, 129, 126],\n",
       "       ...,\n",
       "       [116, 116, 116, ...,  44,  45,  45],\n",
       "       [116, 116, 116, ...,  44,  45,  45],\n",
       "       [115, 115, 116, ...,  44,  45,  45]], dtype=uint8)"
      ]
     },
     "execution_count": 5,
     "metadata": {},
     "output_type": "execute_result"
    }
   ],
   "source": [
    "gray = cv2.cvtColor(img, cv2.COLOR_BGR2GRAY)\n",
    "gray"
   ]
  },
  {
   "cell_type": "markdown",
   "id": "32c56656",
   "metadata": {},
   "source": [
    "## deteksi wajah"
   ]
  },
  {
   "cell_type": "code",
   "execution_count": 6,
   "id": "2506beca",
   "metadata": {},
   "outputs": [
    {
     "data": {
      "text/plain": [
       "array([[185,  68, 281, 281]], dtype=int32)"
      ]
     },
     "execution_count": 6,
     "metadata": {},
     "output_type": "execute_result"
    }
   ],
   "source": [
    "faces = face_cascades.detectMultiScale(gray, 1.1, 4)\n",
    "faces"
   ]
  },
  {
   "cell_type": "markdown",
   "id": "8edd6940",
   "metadata": {},
   "source": [
    "## gambar balok di bagian wajah"
   ]
  },
  {
   "cell_type": "code",
   "execution_count": 7,
   "id": "9640c906",
   "metadata": {},
   "outputs": [],
   "source": [
    "for (x, y, w, h) in faces:\n",
    "    cv2.rectangle(img, (x, y), (x+w, y+h), (255, 0, 0), 2)"
   ]
  },
  {
   "cell_type": "markdown",
   "id": "13a522b2",
   "metadata": {},
   "source": [
    "## tampilkan hasil"
   ]
  },
  {
   "cell_type": "code",
   "execution_count": null,
   "id": "664ad3e6",
   "metadata": {},
   "outputs": [],
   "source": [
    "cv2.imshow('face detection', img)\n",
    "cv2.waitKey()"
   ]
  },
  {
   "cell_type": "code",
   "execution_count": null,
   "id": "e8462bb4",
   "metadata": {},
   "outputs": [],
   "source": []
  }
 ],
 "metadata": {
  "kernelspec": {
   "display_name": "Python 3 (ipykernel)",
   "language": "python",
   "name": "python3"
  },
  "language_info": {
   "codemirror_mode": {
    "name": "ipython",
    "version": 3
   },
   "file_extension": ".py",
   "mimetype": "text/x-python",
   "name": "python",
   "nbconvert_exporter": "python",
   "pygments_lexer": "ipython3",
   "version": "3.10.5"
  }
 },
 "nbformat": 4,
 "nbformat_minor": 5
}
